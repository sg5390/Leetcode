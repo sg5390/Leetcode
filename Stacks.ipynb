{
 "cells": [
  {
   "cell_type": "markdown",
   "metadata": {},
   "source": [
    "### Stacks using arrays"
   ]
  },
  {
   "cell_type": "code",
   "execution_count": 11,
   "metadata": {},
   "outputs": [
    {
     "name": "stdout",
     "output_type": "stream",
     "text": [
      "Stack:  ['10', '20']\n",
      "Size of Stack: 2\n",
      "Is Stack Empty? False\n",
      "Popped element: 20\n",
      "Stack: ['10']\n"
     ]
    }
   ],
   "source": [
    "class myStack:                 #creating a blueprint of any objects of type stack and defining the operations that myStack will be able to do\n",
    "    def __init__(self):        #Define init method for the stack which is the constructor. Methods start with a parameter called self\n",
    "            self.items = []    #Items is a method member of stack\n",
    "    \n",
    "    def isEmpty(self):\n",
    "        if self.items == []:\n",
    "            return True\n",
    "        else:\n",
    "            return False\n",
    "        \n",
    "    def push(self, item):\n",
    "        #Push the elements at the last index\n",
    "        self.items.append(item)\n",
    "         \n",
    "    def pop(self):\n",
    "        if self.isEmpty is True:\n",
    "            return None\n",
    "        else:\n",
    "            return self.items.pop()\n",
    "        \n",
    "    def peek(self):\n",
    "        if self.item:\n",
    "            return self.items[-1]\n",
    "        else:\n",
    "            return None\n",
    "        \n",
    "    def size(self):\n",
    "        if self.items:\n",
    "            return len(self.items)\n",
    "        else:\n",
    "            return None\n",
    "        \n",
    "    def show(self,item):\n",
    "        self.show = item\n",
    "         \n",
    "\n",
    "s = myStack()  #Create an object s of the type Stack Array(myStack)\n",
    "s.push('10')\n",
    "s.push('20')\n",
    "print(\"Stack: \",s.items)\n",
    "print(\"Size of Stack:\",s.size())\n",
    "print(\"Is Stack Empty?\",s.isEmpty())\n",
    "print(\"Popped element:\",s.pop())     #It pops the last element because stack is of LIFO structure\n",
    "print(\"Stack:\",s.items)"
   ]
  },
  {
   "cell_type": "code",
   "execution_count": null,
   "metadata": {},
   "outputs": [],
   "source": [
    "class Node:\n",
    "    def __init__(self, data):\n",
    "        self.data = data\n",
    "        self.next = next\n",
    "\n",
    "\n",
    "class Stack:\n",
    "    def __init__(self):\n",
    "        self.data\n",
    "        \n",
    "        \n",
    "    def push(self, data):\n",
    "        \n",
    "    def pop(self):\n",
    "        \n",
    "a_stack = Stack()\n",
    "while True:\n",
    "    print('push <value>')\n",
    "    print('pop')\n",
    "    print('quit')\n",
    "    do = input('What would you like to do? ').split()\n",
    " \n",
    "    operation = do[0].strip().lower()\n",
    "    if operation == 'push':\n",
    "        a_stack.push(int(do[1]))\n",
    "    elif operation == 'pop':\n",
    "        popped = a_stack.pop()\n",
    "        if popped is None:\n",
    "            print('Stack is empty.')\n",
    "        else:\n",
    "            print('Popped value: ', int(popped))\n",
    "    elif operation == 'quit':\n",
    "        break"
   ]
  },
  {
   "cell_type": "code",
   "execution_count": null,
   "metadata": {},
   "outputs": [],
   "source": []
  }
 ],
 "metadata": {
  "kernelspec": {
   "display_name": "Python 3",
   "language": "python",
   "name": "python3"
  },
  "language_info": {
   "codemirror_mode": {
    "name": "ipython",
    "version": 3
   },
   "file_extension": ".py",
   "mimetype": "text/x-python",
   "name": "python",
   "nbconvert_exporter": "python",
   "pygments_lexer": "ipython3",
   "version": "3.7.4"
  }
 },
 "nbformat": 4,
 "nbformat_minor": 2
}
