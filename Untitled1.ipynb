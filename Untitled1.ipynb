{
 "cells": [
  {
   "cell_type": "markdown",
   "metadata": {},
   "source": [
    "### Q2. 2D ARRAY - DS"
   ]
  },
  {
   "cell_type": "code",
   "execution_count": null,
   "metadata": {},
   "outputs": [],
   "source": [
    "import math\n",
    "import os\n",
    "import random\n",
    "import re\n",
    "import sys"
   ]
  },
  {
   "cell_type": "code",
   "execution_count": null,
   "metadata": {},
   "outputs": [],
   "source": [
    "# Complete the hourglassSum function below.\n",
    "def hourglassSum(arr):\n",
    "    max_sum = -100\n",
    "    for i in range(4):\n",
    "        for j in range(4):\n",
    "            top = sum(arr[i][j:j+3])\n",
    "            print(\"TOP:\",top)\n",
    "            mid = arr[i+1][j+1]\n",
    "            print(\"MID:\",mid)\n",
    "            bot = sum(arr[i+2][j:j+3])\n",
    "            print(\"BOT:\",bot)\n",
    "            total = top+mid+bot\n",
    "            print(\"TOTAL:\",total)\n",
    "            max_sum = max(total,max_sum)\n",
    "            print(\"MAXSUM:\", max_sum)\n",
    "    return max_sum"
   ]
  },
  {
   "cell_type": "code",
   "execution_count": null,
   "metadata": {},
   "outputs": [],
   "source": [
    "arr = []\n",
    "for _ in range(6):\n",
    "    arr.append(list(map(int, input().rstrip().split())))\n",
    "\n",
    "result = hourglassSum(arr)\n",
    "result"
   ]
  },
  {
   "cell_type": "markdown",
   "metadata": {},
   "source": [
    "### Q4. LEFT ROTATION"
   ]
  },
  {
   "cell_type": "code",
   "execution_count": null,
   "metadata": {},
   "outputs": [],
   "source": [
    "import math\n",
    "import os\n",
    "import random\n",
    "import re\n",
    "import sys\n",
    "\n",
    "#\n",
    "# Complete the 'rotateLeft' function below.\n",
    "#\n",
    "# The function is expected to return an INTEGER_ARRAY.\n",
    "# The function accepts following parameters:\n",
    "#  1. INTEGER d\n",
    "#  2. INTEGER_ARRAY arr\n",
    "#\n",
    "\n",
    "def rotateLeft(d, arr):\n",
    "    a = arr[d:] + arr[:d]\n",
    "    print(*a) #*a makes the output like 5 1 2 3 4 instead of [5,1,2,3,4] if we just print(a)"
   ]
  },
  {
   "cell_type": "code",
   "execution_count": null,
   "metadata": {},
   "outputs": [],
   "source": [
    "first_multiple_input = input().rstrip().split()\n",
    "\n",
    "n = int(first_multiple_input[0])\n",
    "\n",
    "d = int(first_multiple_input[1])\n",
    "\n",
    "arr = list(map(int, input().rstrip().split()))\n",
    "\n",
    "result = rotateLeft(d, arr)"
   ]
  },
  {
   "cell_type": "markdown",
   "metadata": {},
   "source": [
    "### Another Method: But this does not pass all the test cases: can be used as a brute force approach"
   ]
  },
  {
   "cell_type": "code",
   "execution_count": null,
   "metadata": {},
   "outputs": [],
   "source": [
    "import math\n",
    "import os\n",
    "import random\n",
    "import re\n",
    "import sys\n",
    "\n",
    "#\n",
    "# Complete the 'rotateLeft' function below.\n",
    "#\n",
    "# The function is expected to return an INTEGER_ARRAY.\n",
    "# The function accepts following parameters:\n",
    "#  1. INTEGER d\n",
    "#  2. INTEGER_ARRAY arr\n",
    "#\n",
    "\n",
    "def rotateLeft(d, arr):\n",
    "    for i in range(0,d):\n",
    "        temp = arr[0]\n",
    "#         print(\"Temp:\",temp)\n",
    "        for j in range(0,len(arr)-1):\n",
    "            arr[j] = arr[j+1]\n",
    "#             print(\"j Array\",arr)\n",
    "        arr[-1] = temp\n",
    "#         print(\"i Array\",arr)\n",
    "    return arr"
   ]
  },
  {
   "cell_type": "code",
   "execution_count": null,
   "metadata": {},
   "outputs": [],
   "source": [
    "first_multiple_input = input().rstrip().split()\n",
    "\n",
    "n = int(first_multiple_input[0])\n",
    "\n",
    "d = int(first_multiple_input[1])\n",
    "\n",
    "arr = list(map(int, input().rstrip().split()))\n",
    "\n",
    "result = rotateLeft(d, arr)"
   ]
  },
  {
   "cell_type": "code",
   "execution_count": null,
   "metadata": {},
   "outputs": [],
   "source": [
    "print(*result)"
   ]
  },
  {
   "cell_type": "markdown",
   "metadata": {},
   "source": [
    "### Q4. Sparse Arrays"
   ]
  },
  {
   "cell_type": "code",
   "execution_count": null,
   "metadata": {},
   "outputs": [],
   "source": [
    "def matchingStrings(strings, queries):\n",
    "    results = []\n",
    "    count = [0]*60\n",
    "    for i in range(0,len(queries)):\n",
    "        for j in range(0,len(strings)):\n",
    "            if strings[j] == queries[i]:\n",
    "                count[i] += 1\n",
    "        results.append(count[i])\n",
    "    return results\n",
    "\n",
    "strings = ['aba','baba','aba','xzxb']\n",
    "queries = ['aba','xzxb','ab']\n",
    "matchingStrings(strings,queries)"
   ]
  },
  {
   "cell_type": "code",
   "execution_count": null,
   "metadata": {},
   "outputs": [],
   "source": [
    "from collections import Counter\n",
    "c = Counter(strings)\n",
    "result=[]\n",
    "for q in queries:\n",
    "    result.append(c[q])\n",
    "result"
   ]
  },
  {
   "cell_type": "code",
   "execution_count": null,
   "metadata": {},
   "outputs": [],
   "source": [
    "import math\n",
    "def arrayManipulation(n, queries):\n",
    "    arr = [0]*(n+2)\n",
    "    for q in queries:\n",
    "        print(q)\n",
    "        a = q[0]\n",
    "        b = q[1]\n",
    "        k = q[-1]\n",
    "        arr[a] += k\n",
    "        arr[b+1] -= k\n",
    "        print(arr)\n",
    "      \n",
    "    max_sum = temp =  0\n",
    "    for i in arr:\n",
    "        print(i)\n",
    "        temp += i\n",
    "        print(\"TEMP:\",temp)\n",
    "        max_sum = max(max_sum,temp)\n",
    "        print(\"MAXSUM:\",max_sum)\n",
    "    return max_sum"
   ]
  },
  {
   "cell_type": "code",
   "execution_count": null,
   "metadata": {},
   "outputs": [],
   "source": [
    "arrayManipulation(5,[[1,2,100],[2,5,100],\n",
    "[3,4,100]])"
   ]
  },
  {
   "cell_type": "code",
   "execution_count": null,
   "metadata": {},
   "outputs": [],
   "source": [
    "max(100,0)"
   ]
  },
  {
   "cell_type": "code",
   "execution_count": null,
   "metadata": {},
   "outputs": [],
   "source": [
    "def lengthOfLongestSubstring(s: str) -> int:\n",
    "        if (s == 0) or (len(s) == 0):\n",
    "            return 0\n",
    "        map = {}\n",
    "        slow = max_len = 0\n",
    "        li = []\n",
    "#         print(type(start))\n",
    "        for fast in range(len(s)):\n",
    "            c = s[fast]\n",
    "#             print(type(s[i]))\n",
    "            if c in map:\n",
    "                slow = max(slow,map[c])\n",
    "           \n",
    "            map[c] = fast+1\n",
    "            current = fast-slow+1\n",
    "            \n",
    "            if (current > max_len):\n",
    "                li = []\n",
    "                li.append(s[slow:fast+1])\n",
    "            elif(current == max_len):\n",
    "                li.append(s[slow:fast+1])\n",
    "            \n",
    "            max_len = max(max_len, fast-slow+1)\n",
    "#             map[s[i]] = i\n",
    "        print(li)\n",
    "        return max_len"
   ]
  },
  {
   "cell_type": "code",
   "execution_count": null,
   "metadata": {},
   "outputs": [],
   "source": [
    "s = \"abcabcbb\"\n",
    "lengthOfLongestSubstring(s)"
   ]
  },
  {
   "cell_type": "code",
   "execution_count": null,
   "metadata": {},
   "outputs": [],
   "source": [
    "def customSortString(S: str, T: str) -> str:\n",
    "    if (S == 0) or (len(S)==0) or (T ==0) or (len(T)==0):\n",
    "        return T\n",
    "    finalstring = []\n",
    "    map = {}\n",
    "    for i in range(0,len(T)):\n",
    "        c = T[i]\n",
    "        map[c] = map.get(c,0)+1\n",
    "#         print(map[c])\n",
    "    for i in range(0,len(S)):\n",
    "        c = S[i]\n",
    "        if c in map:\n",
    "            times = map[c]\n",
    "            for j in range(0,times):\n",
    "                finalstring.append(c)\n",
    "            del[map[c]]\n",
    "    for c in map:\n",
    "        times = map[c]\n",
    "        for j in range(0,times):\n",
    "            finalstring.append(c)\n",
    "    return ''.join(finalstring)"
   ]
  },
  {
   "cell_type": "code",
   "execution_count": null,
   "metadata": {},
   "outputs": [],
   "source": [
    "S = \"cbaddbr\"\n",
    "T = \"abrcd\"\n",
    "customSortString(S, T)"
   ]
  },
  {
   "cell_type": "markdown",
   "metadata": {},
   "source": [
    "### STACKS USING LINKED LISTS"
   ]
  },
  {
   "cell_type": "code",
   "execution_count": 1,
   "metadata": {},
   "outputs": [],
   "source": [
    "class Node:\n",
    "    def __init__(self, data):\n",
    "        self.data = data\n",
    "        self.next = None\n",
    "\n",
    "class Stack:\n",
    "    def __init__(self):\n",
    "        self.head = None\n",
    "        \n",
    "    def push(self, data):\n",
    "        if self.head == None:\n",
    "            self.head = Node(data)\n",
    "        else:\n",
    "            node = Node(data)\n",
    "            node.next = self.head\n",
    "            self.head = node\n",
    "    \n",
    "    def isempty(self):\n",
    "        if self.head == None:\n",
    "            return True\n",
    "        else:\n",
    "            return False\n",
    "\n",
    "    def pop(self):\n",
    "        if self.isempty():\n",
    "            return None\n",
    "        else:\n",
    "            poppednode = self.head\n",
    "            self.head = self.head.next\n",
    "            poppednode.next = None\n",
    "            return poppednode.data\n",
    "        \n",
    "a_stack = Stack()\n",
    "\n",
    "while True:\n",
    "    print('push <value>')\n",
    "    print('pop')\n",
    "    print('quit')\n",
    "    do = input('What would you like to do? ').split()\n",
    " \n",
    "    operation = do[0].strip().lower()\n",
    "    if operation == 'push':\n",
    "        a_stack.push(int(do[1]))\n",
    "        print(\"{}\".format(int(do[1])))\n",
    "    elif operation == 'pop':\n",
    "        popped = a_stack.pop()\n",
    "        if popped is None:\n",
    "            print('Stack is empty.')\n",
    "        else:\n",
    "            print('Popped value: ', int(popped))\n",
    "    elif operation == 'quit':\n",
    "        break"
   ]
  },
  {
   "cell_type": "markdown",
   "metadata": {},
   "source": [
    "### SINGLY LINKED LISTS"
   ]
  },
  {
   "cell_type": "code",
   "execution_count": 19,
   "metadata": {},
   "outputs": [],
   "source": [
    "class ListNode:\n",
    "    \"\"\"\n",
    "    A node in a singly-linked list.\n",
    "    \"\"\"\n",
    "    def __init__(self, data=None, next=None):\n",
    "        self.data = data\n",
    "        self.next = next\n",
    "    \n",
    "class SinglyLinkedList:\n",
    "    def __init__(self):\n",
    "        \"\"\"\n",
    "        Create a new singly-linked list.\n",
    "        Takes O(1) time.\n",
    "        \"\"\"\n",
    "        self.head = None\n",
    "    \n",
    "    def is_empty(self):\n",
    "        if self.head == None:\n",
    "            return True\n",
    "        else:\n",
    "            return False\n",
    "    \n",
    "    def print_list(self):\n",
    "        curr_node = self.head\n",
    "        while curr_node:\n",
    "            print(curr_node.data)\n",
    "            curr_node = curr_node.next\n",
    "\n",
    "    def append(self, data):\n",
    "        \"\"\"\n",
    "        Insert a new element at the end of the list.\n",
    "        Takes O(n) time.\n",
    "        \"\"\"\n",
    "        new_node = ListNode(data)\n",
    "        if self.head is None:\n",
    "            self.head = new_node\n",
    "            return\n",
    "\n",
    "        node = self.head\n",
    "        while(node.next):\n",
    "            node = node.next\n",
    "        node.next = new_node\n",
    "\n",
    "    def find(self, key):\n",
    "        \"\"\"\n",
    "        Search for the first element with `data` matching\n",
    "        `key`. Return the element or `None` if not found.\n",
    "        Takes O(n) time.\n",
    "        \"\"\"\n",
    "        node = ListNode(key)\n",
    "        if self.is_empty():\n",
    "            return None\n",
    "        else:\n",
    "            while node.next:\n",
    "                firstnode = self.head\n",
    "                return firstnode.data\n",
    "        \n",
    "    def remove(self, key):\n",
    "        \"\"\"\n",
    "        Remove the first occurrence of `key` in the list.\n",
    "        Takes O(n) time.\n",
    "        \"\"\"\n",
    "        node = ListNode(key)\n",
    "        if self.is_empty():\n",
    "            return None\n",
    "        else:\n",
    "            while node.next:\n",
    "                firstnode = self.head\n",
    "                return firstnode.next\n",
    "            \n",
    "            \n",
    "ll = SinglyLinkedList()\n",
    "ll.append(\"3\")\n",
    "ll.append(\"5\")\n",
    "ll.find([0])\n",
    "ll.remove(1)"
   ]
  },
  {
   "cell_type": "code",
   "execution_count": 18,
   "metadata": {},
   "outputs": [
    {
     "name": "stdout",
     "output_type": "stream",
     "text": [
      "3\n",
      "5\n"
     ]
    }
   ],
   "source": [
    "ll.print_list()"
   ]
  },
  {
   "cell_type": "code",
   "execution_count": 3,
   "metadata": {},
   "outputs": [
    {
     "name": "stdout",
     "output_type": "stream",
     "text": [
      "Inorder traversal before insertion: 7 11 10 15 9 8 <__main__.newNode object at 0x7fc391f1a450>\n",
      "[]\n",
      "<__main__.newNode object at 0x7fc391df1d90>\n",
      "[<__main__.newNode object at 0x7fc391f0a5d0>]\n",
      "\n",
      "Inorder traversal after insertion: 7 11 12 10 15 9 8 "
     ]
    }
   ],
   "source": [
    "# Python program to insert element in binary tree  \n",
    "class newNode():  \n",
    "  \n",
    "    def __init__(self, data):  \n",
    "        self.key = data \n",
    "        self.left = None\n",
    "        self.right = None\n",
    "          \n",
    "\"\"\" Inorder traversal of a binary tree\"\"\"\n",
    "def inorder(temp): \n",
    "    if (not temp):\n",
    "        return\n",
    " \n",
    "    inorder(temp.left) \n",
    "    print(temp.key,end = \" \")\n",
    "    inorder(temp.right) \n",
    "    \n",
    "  \n",
    "  \n",
    "\"\"\"function to insert element in binary tree \"\"\"\n",
    "def insert(temp,key): \n",
    "    if not temp:\n",
    "        root = newNode(key)\n",
    "        return\n",
    "    \n",
    "    q = [] \n",
    "    q.append(temp) \n",
    "    \n",
    "    while (len(q)): \n",
    "        temp = q[0] \n",
    "        print(temp)\n",
    "        q.pop(0) \n",
    "        print(q)\n",
    " \n",
    "        if (not temp.left):\n",
    "            temp.left = newNode(key) \n",
    "            break\n",
    "        else:\n",
    "            q.append(temp.left) \n",
    "  \n",
    "        if (not temp.right):\n",
    "            temp.right = newNode(key) \n",
    "            break\n",
    "        else:\n",
    "            q.append(temp.right) \n",
    "    \n",
    "    \n",
    "    \n",
    "    \n",
    "#     while True:\n",
    "#         #currentnode = self\n",
    "#         if key < temp.key:\n",
    "#             if temp.left is None:\n",
    "#                 temp.left = newNode(key)\n",
    "#                 break\n",
    "#             else:\n",
    "#                 temp = temp.left\n",
    "#         else:\n",
    "#             if temp.right is None:\n",
    "#                 temp.right = newNode(key)\n",
    "#                 break\n",
    "#             else:\n",
    "#                 temp = temp.right\n",
    "#     return temp\n",
    "\n",
    "\n",
    "    \n",
    "   \n",
    "    \n",
    "  \n",
    "       \n",
    "# Driver code  \n",
    "if __name__ == '__main__': \n",
    "    root = newNode(10)  \n",
    "    root.left = newNode(11)  \n",
    "    root.left.left = newNode(7)  \n",
    "    root.right = newNode(9)  \n",
    "    root.right.left = newNode(15)  \n",
    "    root.right.right = newNode(8)  \n",
    "  \n",
    "    print(\"Inorder traversal before insertion:\", end = \" \") \n",
    "    inorder(root)  \n",
    "  \n",
    "    key = 12\n",
    "    insert(root, key)  \n",
    "  \n",
    "    print()  \n",
    "    print(\"Inorder traversal after insertion:\", end = \" \") \n",
    "    inorder(root) "
   ]
  },
  {
   "cell_type": "code",
   "execution_count": 6,
   "metadata": {},
   "outputs": [],
   "source": [
    "q = [] \n",
    "# q.append(temp)    \n",
    "while (len(q)): \n",
    "    temp = q[0] \n",
    "    print(temp)\n",
    "    q.pop(0) \n",
    "    print(q)"
   ]
  },
  {
   "cell_type": "code",
   "execution_count": 1,
   "metadata": {},
   "outputs": [],
   "source": [
    "import cv2\n",
    "import numpy as np"
   ]
  },
  {
   "cell_type": "code",
   "execution_count": 2,
   "metadata": {},
   "outputs": [],
   "source": [
    "img = cv2.imread(\"ss.jpg\")\n"
   ]
  },
  {
   "cell_type": "code",
   "execution_count": null,
   "metadata": {},
   "outputs": [],
   "source": [
    "cv2.imshow(\"Img\", img)\n",
    "cv2.waitKey(0)\n",
    "cv2.destroyAllWindows()"
   ]
  },
  {
   "cell_type": "code",
   "execution_count": null,
   "metadata": {},
   "outputs": [],
   "source": []
  }
 ],
 "metadata": {
  "kernelspec": {
   "display_name": "Python 3",
   "language": "python",
   "name": "python3"
  },
  "language_info": {
   "codemirror_mode": {
    "name": "ipython",
    "version": 3
   },
   "file_extension": ".py",
   "mimetype": "text/x-python",
   "name": "python",
   "nbconvert_exporter": "python",
   "pygments_lexer": "ipython3",
   "version": "3.7.4"
  }
 },
 "nbformat": 4,
 "nbformat_minor": 2
}
